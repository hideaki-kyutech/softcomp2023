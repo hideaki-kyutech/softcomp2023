{
  "nbformat": 4,
  "nbformat_minor": 0,
  "metadata": {
    "colab": {
      "provenance": [],
      "authorship_tag": "ABX9TyNPelNNVk1Wzro9Tl1KhsPY",
      "include_colab_link": true
    },
    "kernelspec": {
      "name": "python3",
      "display_name": "Python 3"
    },
    "language_info": {
      "name": "python"
    }
  },
  "cells": [
    {
      "cell_type": "markdown",
      "metadata": {
        "id": "view-in-github",
        "colab_type": "text"
      },
      "source": [
        "<a href=\"https://colab.research.google.com/github/hideaki-kyutech/softcomp2023/blob/main/ga2023.ipynb\" target=\"_parent\"><img src=\"https://colab.research.google.com/assets/colab-badge.svg\" alt=\"Open In Colab\"/></a>"
      ]
    },
    {
      "cell_type": "markdown",
      "source": [
        "# 遺伝的アルゴリズム"
      ],
      "metadata": {
        "id": "QLiZZDRjJOy2"
      }
    },
    {
      "cell_type": "markdown",
      "source": [
        "## 準備"
      ],
      "metadata": {
        "id": "YU4WV9wSJS5D"
      }
    },
    {
      "cell_type": "code",
      "execution_count": 1,
      "metadata": {
        "colab": {
          "base_uri": "https://localhost:8080/"
        },
        "id": "dPXHITsVYR9F",
        "outputId": "97aeeedb-06a7-4bf6-e9d1-cfc190f73063"
      },
      "outputs": [
        {
          "output_type": "stream",
          "name": "stdout",
          "text": [
            "Collecting pygad\n",
            "  Downloading pygad-3.2.0-py3-none-any.whl (80 kB)\n",
            "\u001b[2K     \u001b[90m━━━━━━━━━━━━━━━━━━━━━━━━━━━━━━━━━━━━━━━━\u001b[0m \u001b[32m80.8/80.8 kB\u001b[0m \u001b[31m819.7 kB/s\u001b[0m eta \u001b[36m0:00:00\u001b[0m\n",
            "\u001b[?25hRequirement already satisfied: cloudpickle in /usr/local/lib/python3.10/dist-packages (from pygad) (2.2.1)\n",
            "Requirement already satisfied: matplotlib in /usr/local/lib/python3.10/dist-packages (from pygad) (3.7.1)\n",
            "Requirement already satisfied: numpy in /usr/local/lib/python3.10/dist-packages (from pygad) (1.23.5)\n",
            "Requirement already satisfied: contourpy>=1.0.1 in /usr/local/lib/python3.10/dist-packages (from matplotlib->pygad) (1.2.0)\n",
            "Requirement already satisfied: cycler>=0.10 in /usr/local/lib/python3.10/dist-packages (from matplotlib->pygad) (0.12.1)\n",
            "Requirement already satisfied: fonttools>=4.22.0 in /usr/local/lib/python3.10/dist-packages (from matplotlib->pygad) (4.47.2)\n",
            "Requirement already satisfied: kiwisolver>=1.0.1 in /usr/local/lib/python3.10/dist-packages (from matplotlib->pygad) (1.4.5)\n",
            "Requirement already satisfied: packaging>=20.0 in /usr/local/lib/python3.10/dist-packages (from matplotlib->pygad) (23.2)\n",
            "Requirement already satisfied: pillow>=6.2.0 in /usr/local/lib/python3.10/dist-packages (from matplotlib->pygad) (9.4.0)\n",
            "Requirement already satisfied: pyparsing>=2.3.1 in /usr/local/lib/python3.10/dist-packages (from matplotlib->pygad) (3.1.1)\n",
            "Requirement already satisfied: python-dateutil>=2.7 in /usr/local/lib/python3.10/dist-packages (from matplotlib->pygad) (2.8.2)\n",
            "Requirement already satisfied: six>=1.5 in /usr/local/lib/python3.10/dist-packages (from python-dateutil>=2.7->matplotlib->pygad) (1.16.0)\n",
            "Installing collected packages: pygad\n",
            "Successfully installed pygad-3.2.0\n"
          ]
        }
      ],
      "source": [
        "!pip install pygad"
      ]
    },
    {
      "cell_type": "code",
      "source": [
        "# パッケージのインポート\n",
        "import pygad\n",
        "import numpy"
      ],
      "metadata": {
        "id": "5_hOyIY4JXQQ"
      },
      "execution_count": 2,
      "outputs": []
    },
    {
      "cell_type": "markdown",
      "source": [
        "## 実装例"
      ],
      "metadata": {
        "id": "trozSaWROHwf"
      }
    },
    {
      "cell_type": "code",
      "source": [
        "# define the imputs and outputs\n",
        "function_inputs = [4,-2,3.5,5,-11,-4.7] # [x1,x2,x3,x4,x5,x6]\n",
        "desired_output =44 # desired output of function f(x;w)"
      ],
      "metadata": {
        "id": "KmNZhkYMMObJ"
      },
      "execution_count": 5,
      "outputs": []
    },
    {
      "cell_type": "code",
      "source": [
        "#Define the fitness function\n",
        "# This function Calculates the fitness value of\n",
        "# each solution in the current population.\n",
        "# i.e. it calulates the sum of products between each input\n",
        "# and its corresponding weight. We store the returned value in\n",
        "# a variable called as fitness_function\n",
        "\n",
        "def fitness_func(ga_instance, solution, solution_idx):\n",
        "    output = numpy.sum(solution*function_inputs)\n",
        "    fitness = 1.0 / numpy.abs(output - desired_output)\n",
        "    return fitness"
      ],
      "metadata": {
        "id": "bRM2NvQEMZLP"
      },
      "execution_count": 9,
      "outputs": []
    },
    {
      "cell_type": "code",
      "source": [
        "fitness_function = fitness_func\n",
        "\n",
        "num_generations = 50\n",
        "num_parents_mating = 4\n",
        "\n",
        "sol_per_pop = 8\n",
        "num_genes = len(function_inputs)\n",
        "\n",
        "init_range_low = -2\n",
        "init_range_high = 5\n",
        "\n",
        "parent_selection_type = \"sss\"\n",
        "keep_parents = 1\n",
        "\n",
        "crossover_type = \"single_point\"\n",
        "\n",
        "mutation_type = \"random\"\n",
        "mutation_percent_genes = 10"
      ],
      "metadata": {
        "id": "gwQkNqvhMffe"
      },
      "execution_count": 10,
      "outputs": []
    },
    {
      "cell_type": "code",
      "source": [
        "ga_instance = pygad.GA(num_generations=num_generations,\n",
        "                       num_parents_mating=num_parents_mating,\n",
        "                       fitness_func=fitness_function,\n",
        "                       sol_per_pop=sol_per_pop,\n",
        "                       num_genes=num_genes,\n",
        "                       init_range_low=init_range_low,\n",
        "                       init_range_high=init_range_high,\n",
        "                       parent_selection_type=parent_selection_type,\n",
        "                       keep_parents=keep_parents,\n",
        "                       crossover_type=crossover_type,\n",
        "                       mutation_type=mutation_type,\n",
        "                       mutation_percent_genes=mutation_percent_genes)"
      ],
      "metadata": {
        "id": "7tFS7Nl4MkR8"
      },
      "execution_count": 11,
      "outputs": []
    },
    {
      "cell_type": "code",
      "source": [
        "ga_instance.run()"
      ],
      "metadata": {
        "id": "Al44hRJeNe1E"
      },
      "execution_count": 12,
      "outputs": []
    },
    {
      "cell_type": "code",
      "source": [
        "solution, solution_fitness, solution_idx = ga_instance.best_solution()\n",
        "print(\"Parameters of the best solution : {solution}\".format(solution=solution))\n",
        "print(\"Fitness value of the best solution = {solution_fitness}\".format(solution_fitness=solution_fitness))\n",
        "\n",
        "prediction = numpy.sum(numpy.array(function_inputs)*solution)\n",
        "print(\"Predicted output based on the best solution : {prediction}\".format(prediction=prediction))"
      ],
      "metadata": {
        "colab": {
          "base_uri": "https://localhost:8080/"
        },
        "id": "6yD1JqmDNjVI",
        "outputId": "b9277863-7fa4-42b6-9235-da91a67abf56"
      },
      "execution_count": 13,
      "outputs": [
        {
          "output_type": "stream",
          "name": "stdout",
          "text": [
            "Parameters of the best solution : [ 3.61426507 -2.31579609  1.48443835  2.75728067 -0.06335591 -1.12322234]\n",
            "Fitness value of the best solution = 21.436199035492027\n",
            "Predicted output based on the best solution : 44.046650061344565\n"
          ]
        }
      ]
    },
    {
      "cell_type": "code",
      "source": [
        "numpy.random.seed(0)\n",
        "\n",
        "fitness_function = fitness_func\n",
        "\n",
        "# Define parameters to be used for GA\n",
        "# sol_per_pop gives the number of chromosomes in the population\n",
        "# and num_genes gives the genes in one chromosome.\n",
        "\n",
        "sol_per_pop = 50 # number of population\n",
        "num_genes = len(function_inputs)\n",
        "\n",
        "##These values define the range from which we will extract the\n",
        "# values randomly for initializing the genes.\n",
        "\n",
        "init_range_low = -2\n",
        "init_range_high = 5\n",
        "\n",
        "# the population variable is then defined by the tuple pop_size\n",
        "\n",
        "pop_size = (sol_per_pop,num_genes)\n",
        "\n",
        "\n",
        "# let us now make a random population for illustration puposes.\n",
        "# The pygad constructor actually does this automatically by using\n",
        "# sol_per_pop and num_genes parameters\n",
        "\n",
        "initial_population = numpy.random.uniform(low=init_range_low,\n",
        "                                          high =init_range_high,\n",
        "                                          size=pop_size)\n",
        "print(initial_population)\n",
        "\n",
        "#Next we define the number of generations that the iteration will continue\n",
        "# and how many parents will take part in reproduction/mating\n",
        "num_generations=100\n",
        "num_parents_mating= 20\n",
        "\n",
        "# We define the parent selection type as Roulette wheel selection\n",
        "parent_selection_type= 'rws'\n",
        "# next we define how many parents to keep for next generation\n",
        "keep_parents = 1\n",
        "#Crossover type\n",
        "crossover_type = 'single_point'\n",
        "\n",
        "#Mutation type\n",
        "mutation_type = 'random'\n",
        "\n",
        "# Percentage of number of genes that will participate in mutation\n",
        "mutation_percent_genes = 10\n",
        "\n",
        "\n",
        "#Creating an instance of GA\n",
        "\n",
        "ga_instance= pygad.GA(num_generations=num_generations,\n",
        "                      num_parents_mating=num_parents_mating,\n",
        "                      fitness_func=fitness_function,\n",
        "                      sol_per_pop=sol_per_pop,\n",
        "                      num_genes=num_genes,\n",
        "                      init_range_low=init_range_low,\n",
        "                      init_range_high=init_range_high,\n",
        "                      parent_selection_type=parent_selection_type,\n",
        "                      keep_parents=keep_parents,\n",
        "                      crossover_type=crossover_type,\n",
        "                      mutation_type=mutation_type,\n",
        "                      mutation_percent_genes=mutation_percent_genes)\n",
        "\n",
        "#We use the function run() to execute the simulations\n",
        "ga_instance.run()\n",
        "\n",
        "# plot the reuslts - the plateau shows the maximum value of fitness\n",
        "ga_instance.plot_fitness()\n",
        "\n",
        "# Now we determine the best solution i.e. the weight vector that gives the\n",
        "# best solution\n",
        "\n",
        "solution,solution_fitness,_ =ga_instance.best_solution()\n",
        "print('\\nBest weight vector :{solution}'.format(solution=solution))\n",
        "\n",
        "# lets see how the algorithm approximated the output when\n",
        "# substituted by the best solution weight vector\n",
        "\n",
        "prediction = numpy.sum(numpy.array(function_inputs)*solution)\n",
        "print('\\nPredicted value   : {prediction}'.format(prediction=prediction))"
      ],
      "metadata": {
        "colab": {
          "base_uri": "https://localhost:8080/",
          "height": 1000
        },
        "id": "TuZdfLWCYk0M",
        "outputId": "bc970e20-66a0-4b93-9eca-a2b74060fdf2"
      },
      "execution_count": 15,
      "outputs": [
        {
          "output_type": "stream",
          "name": "stdout",
          "text": [
            "[[ 1.84169453  3.00632556  2.21934363  1.81418228  0.9655836   2.52125879]\n",
            " [ 1.06311048  4.24241101  4.74563932  0.68409063  3.54207527  1.70226444]\n",
            " [ 1.97631193  4.47917647 -1.50274759 -1.3900949  -1.85847122  3.82833892]\n",
            " [ 3.44709726  4.09008504  4.8503284   3.59410995  1.23035554  3.46370423]\n",
            " [-1.17207902  2.47944715 -0.99652699  4.61268242  1.65293825  0.90263358]\n",
            " [-0.14811072  3.41963583  1.19305233  1.97903764 -1.8684714   2.32344848]\n",
            " [ 2.28467006  2.31853798  4.60623655  2.77274209  0.5165553   1.05922368]\n",
            " [ 2.88341837 -1.5784217   2.66736701  2.69446509 -0.52732207 -1.09751592]\n",
            " [ 0.20799846  0.5459754   1.99137739  1.07021059  4.91861687 -1.28568632]\n",
            " [-0.53786271 -0.87083337  2.57175828 -0.22695878  1.26417541 -0.28902086]\n",
            " [-0.88721291 -1.22737401  2.59430713 -1.03271934 -0.62392347  0.58107619]\n",
            " [ 3.74695261 -1.32029107  3.86561435 -1.32731114  4.83521626  1.28055841]\n",
            " [ 4.83732762  2.23391864  3.17484506 -1.72568545 -0.02035126 -1.15862407]\n",
            " [ 0.07298138 -1.16890597  0.22588226  0.89984096 -1.55096753  2.84730484]\n",
            " [ 1.96621018 -0.14227356  1.66273637 -1.34241642  2.03162547  4.50507338]\n",
            " [ 0.22998267  2.67187266 -1.07741496  3.01429043  0.02584265 -0.71766047]\n",
            " [ 2.10559054 -1.85924718  3.8025802  -1.96713167  2.74471576 -0.10994419]\n",
            " [ 3.14635815  4.73531982 -0.258728    2.03310134  2.14429352  2.00576334]\n",
            " [-0.43842857  4.66924308  1.12987765  3.92486071  2.89635493  0.08205866]\n",
            " [ 3.69658474  0.77554019  4.16772238  2.06891011  4.17214753  2.84772113]\n",
            " [ 3.07677996  1.50927067  4.69258544  2.50793139  0.96698534  2.2447525 ]\n",
            " [-1.86564761  0.11102372  2.62121476  0.03054325  2.326108    1.00138091]\n",
            " [-1.05168155  0.08797628  1.98975437  2.13610933  2.02027674  2.57240574]\n",
            " [ 2.56472289  1.01992905  4.27582617  0.57293309  1.05105448  4.24346349]\n",
            " [ 3.64335792  2.92722008 -1.29841179  4.4363783   2.9996891   4.99192905]\n",
            " [-0.95386187  4.0768824  -0.86254946  2.30891695 -1.13326012  3.93605761]\n",
            " [ 3.65123271  1.98370517  0.85028308 -1.51583103  2.88200141  1.17479878]\n",
            " [ 3.0543892   4.06467628  4.82865054  3.9906234  -1.91800141  0.51984645]\n",
            " [ 3.10993394 -0.79859226  1.64725624 -1.61963408 -0.60002433 -1.87034744]\n",
            " [ 3.55588392 -0.43252718  0.41746176  4.49656905  2.93090081 -1.77712749]\n",
            " [-0.8471409   2.35034881  2.04060012 -0.33475025  4.53949799  2.29776169]\n",
            " [ 1.74942962  2.12936983  3.11085421  0.18361497  0.78754744 -0.53109376]\n",
            " [-0.69664896  4.61060673  3.17685557  1.43321166 -0.4080976  -0.21950463]\n",
            " [-1.59379588  1.04091638  0.18257117  2.87440442  0.64426288 -0.74277426]\n",
            " [-1.8272489  -1.52925258  2.75574941  1.17587791  1.75605448  4.27669905]\n",
            " [ 4.93237263 -0.48172111  2.64154742 -0.15674336 -1.855443    3.30865058]\n",
            " [ 0.24012006  0.68424726  2.11821979  3.81733919  2.40287291  4.10855459]\n",
            " [-0.08520576  3.58632784 -0.70054839  4.6695416   2.81241793 -0.49144626]\n",
            " [ 4.63159413  3.11599065 -0.2224085  -0.50681616  1.627405   -1.82036097]\n",
            " [-0.54770947  0.97279828  0.61918986  1.24502797 -0.05659906  2.10749043]\n",
            " [ 4.04698924 -1.17727701  1.62165375 -1.07552326  3.01801777  0.77241792]\n",
            " [ 1.95794918 -0.71704115 -0.98606568  1.41639396  0.48928916  4.58302362]\n",
            " [ 3.35727678  3.24064534  4.32603818 -1.41604295  1.86534729  2.09133248]\n",
            " [ 4.73355465  0.04503269 -0.31419854 -1.2979424  -1.88499259  4.50670522]\n",
            " [ 2.68941583  3.49607038 -0.02788926  2.10487116 -1.55231314  1.39939317]\n",
            " [ 4.84246598  4.13553672  0.36711266  4.73099108 -0.37808861  4.64523176]\n",
            " [ 4.58964393  3.59441811  2.41313556  4.12001577  0.05114199  3.94260489]\n",
            " [ 2.32513684 -1.907342    0.43063463 -0.96301397  4.87280573  1.34859215]\n",
            " [ 1.48173956  2.47630761  0.58009224 -1.0416981   3.75482413 -0.67106462]\n",
            " [ 1.57923288 -0.4297808  -1.31508861  4.03534062  4.81043642  4.72584261]]\n"
          ]
        },
        {
          "output_type": "stream",
          "name": "stderr",
          "text": [
            "/usr/local/lib/python3.10/dist-packages/pygad/pygad.py:748: UserWarning: The percentage of genes to mutate (mutation_percent_genes=10) resutled in selecting (0) genes. The number of genes to mutate is set to 1 (mutation_num_genes=1).\n",
            "If you do not want to mutate any gene, please set mutation_type=None.\n",
            "  warnings.warn(f\"The percentage of genes to mutate (mutation_percent_genes={mutation_percent_genes}) resutled in selecting ({mutation_num_genes}) genes. The number of genes to mutate is set to 1 (mutation_num_genes=1).\\nIf you do not want to mutate any gene, please set mutation_type=None.\")\n",
            "WARNING:matplotlib.legend:No artists with labels found to put in legend.  Note that artists whose label start with an underscore are ignored when legend() is called with no argument.\n"
          ]
        },
        {
          "output_type": "display_data",
          "data": {
            "text/plain": [
              "<Figure size 640x480 with 1 Axes>"
            ],
            "image/png": "[encoded data removed]"
          },
          "metadata": {}
        },
        {
          "output_type": "stream",
          "name": "stdout",
          "text": [
            "\n",
            "Best weight vector :[ 2.82837786 -1.59279644  3.0602448   4.17202058 -0.09294173  0.65782959]\n",
            "\n",
            "Predicted value   : 44.000624000902185\n"
          ]
        }
      ]
    }
  ]
}